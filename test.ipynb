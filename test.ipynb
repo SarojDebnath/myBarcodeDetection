{
 "cells": [
  {
   "cell_type": "code",
   "execution_count": 11,
   "metadata": {},
   "outputs": [],
   "source": [
    "import cv2\n",
    "image=cv2.imread('310.jpg')\n",
    "\n",
    "\n",
    "clone = image.copy()\n",
    "rois = []\n",
    "cropped_images = []\n",
    "processed_images = []\n",
    "\n",
    "# Function to select ROIs\n",
    "def select_rois(event, x, y, flags, param):\n",
    "    global rois, clone\n",
    "    if event == cv2.EVENT_LBUTTONDOWN:\n",
    "        rois.append((x, y))\n",
    "    elif event == cv2.EVENT_LBUTTONUP:\n",
    "        rois.append((x, y))\n",
    "        cv2.rectangle(clone, rois[-2], rois[-1], (0, 255, 0), 2)\n",
    "        cv2.imshow('Select ROIs', clone)\n",
    "\n",
    "cv2.namedWindow('Select ROIs')\n",
    "cv2.setMouseCallback('Select ROIs', select_rois)\n",
    "\n",
    "while True:\n",
    "    cv2.imshow('Select ROIs', clone)\n",
    "    key = cv2.waitKey(1) & 0xFF\n",
    "    if key == 27:  # Press Enter to finish selection\n",
    "        break\n",
    "cv2.destroyAllWindows()"
   ]
  },
  {
   "cell_type": "code",
   "execution_count": 12,
   "metadata": {},
   "outputs": [
    {
     "name": "stdout",
     "output_type": "stream",
     "text": [
      "No barcode detected in image 0\n",
      "No barcode detected in image 1\n",
      "No barcode detected in image 2\n",
      "No barcode detected in image 0\n",
      "No barcode detected in image 1\n",
      "No barcode detected in image 2\n"
     ]
    }
   ],
   "source": [
    "\n",
    "# Crop and store ROIs\n",
    "for i in range(0, len(rois), 2):\n",
    "    x1, y1 = rois[i]\n",
    "    x2, y2 = rois[i+1]\n",
    "    cropped = image[min(y1, y2):max(y1, y2), min(x1, x2):max(x1, x2)]\n",
    "    cropped_images.append(cropped)\n",
    "from pyzxing import BarCodeReader\n",
    "reader = BarCodeReader()\n",
    "for idx, img in enumerate(cropped_images):\n",
    "    filename = f'temp_binary_{idx}.png'\n",
    "    cv2.imwrite(filename, img)\n",
    "    result = reader.decode(filename)\n",
    "    if result:\n",
    "        print(f'Barcode {idx}:', result)\n",
    "    else:\n",
    "        print(f'No barcode detected in image {idx}')\n",
    "\n",
    "from pyzbar.pyzbar import decode\n",
    "# Barcode detection using pyzbar\n",
    "for idx, img in enumerate(cropped_images):\n",
    "    barcodes = decode(img)\n",
    "    if barcodes:\n",
    "        for barcode in barcodes:\n",
    "            barcode_data = barcode.data.decode('utf-8')\n",
    "            barcode_type = barcode.type\n",
    "            print(f'Barcode {idx}: Type={barcode_type}, Data={barcode_data}')\n",
    "    else:\n",
    "        print(f'No barcode detected in image {idx}')\n",
    "\n",
    "# Process images\n",
    "for idx, img in enumerate(cropped_images):\n",
    "    gray = cv2.cvtColor(img, cv2.COLOR_BGR2GRAY)\n",
    "    #cv2.imshow(f'Gray {idx}', gray)\n",
    "    #cv2.waitKey(0)\n",
    "    \n",
    "    #resized = cv2.resize(gray, (gray.shape[1] * 8, gray.shape[0] * 4))\n",
    "    #cv2.imshow(f'Resized {idx}', resized)\n",
    "    #cv2.waitKey(0)\n",
    "    \n",
    "    blurred = cv2.GaussianBlur(resized, (17, 17), 0)\n",
    "    #cv2.imshow(f'Blurred {idx}', blurred)\n",
    "    #cv2.waitKey(0)\n",
    "    \n",
    "    _, binary = cv2.threshold(blurred, 128, 255, cv2.THRESH_BINARY)\n",
    "    #cv2.imshow(f'Binary {idx}', binary)\n",
    "    #cv2.waitKey(0)\n",
    "    \n",
    "    processed_images.append(binary)\n",
    "\n",
    "cv2.destroyAllWindows()"
   ]
  },
  {
   "cell_type": "code",
   "execution_count": 8,
   "metadata": {},
   "outputs": [
    {
     "name": "stdout",
     "output_type": "stream",
     "text": [
      "No barcode detected in image 0\n",
      "No barcode detected in image 1\n"
     ]
    }
   ],
   "source": [
    "# Barcode detection\n",
    "from pyzxing import BarCodeReader\n",
    "reader = BarCodeReader()\n",
    "for idx, img in enumerate(processed_images):\n",
    "    filename = f'temp_binary_{idx}.png'\n",
    "    cv2.imwrite(filename, img)\n",
    "    result = reader.decode(filename)\n",
    "    if result:\n",
    "        print(f'Barcode {idx}:', result)\n",
    "    else:\n",
    "        print(f'No barcode detected in image {idx}')"
   ]
  },
  {
   "cell_type": "code",
   "execution_count": null,
   "metadata": {},
   "outputs": [],
   "source": []
  }
 ],
 "metadata": {
  "kernelspec": {
   "display_name": "test_env",
   "language": "python",
   "name": "python3"
  },
  "language_info": {
   "codemirror_mode": {
    "name": "ipython",
    "version": 3
   },
   "file_extension": ".py",
   "mimetype": "text/x-python",
   "name": "python",
   "nbconvert_exporter": "python",
   "pygments_lexer": "ipython3",
   "version": "3.9.13"
  }
 },
 "nbformat": 4,
 "nbformat_minor": 2
}
